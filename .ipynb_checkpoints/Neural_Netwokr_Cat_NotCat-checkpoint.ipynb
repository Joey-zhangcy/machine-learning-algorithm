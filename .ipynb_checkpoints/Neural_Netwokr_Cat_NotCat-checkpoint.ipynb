{
 "cells": [
  {
   "cell_type": "code",
   "execution_count": 5,
   "metadata": {},
   "outputs": [],
   "source": [
    "#Import some libraries\n",
    "import tensorflow as tf\n",
    "import glob\n",
    "import numpy as np\n",
    "# for installer: pip install Pillow\n",
    "from PIL import Image\n",
    "import matplotlib.pyplot as plt\n",
    "from skimage import transform\n",
    "import os"
   ]
  },
  {
   "cell_type": "code",
   "execution_count": 12,
   "metadata": {},
   "outputs": [],
   "source": [
    "width = 68\n",
    "height = 68\n",
    "X = []\n",
    "y = []\n",
    "def get_dataset(path_image, Cat=True):\n",
    "    images = glob.glob(path_image+\"*.png\")\n",
    "    \n",
    "    for image in images:\n",
    "        img = Image.open(image)\n",
    "        img = np.asarray(img)\n",
    "        if Cat:\n",
    "            y.append(1)\n",
    "        else:\n",
    "            y.append(0)\n",
    "        img = transform.resize(img,(width, height))\n",
    "        X.append(img)\n",
    "        \n",
    "path_images_cat = 'train/cat/'\n",
    "path_images_n_cat = 'train/noncat/'\n",
    "\n",
    "get_dataset(path_images_cat)\n",
    "get_dataset(path_images_n_cat, False)\n",
    "\n",
    "X = np.asarray(X)\n",
    "y = np.asarray(y)"
   ]
  },
  {
   "cell_type": "code",
   "execution_count": 13,
   "metadata": {},
   "outputs": [
    {
     "name": "stdout",
     "output_type": "stream",
     "text": [
      "Shape of X: (209, 68, 68, 3)\n",
      "Shape of y: (209,)\n"
     ]
    }
   ],
   "source": [
    "# check the shape of data set and labels\n",
    "print(\"Shape of X: {}\".format(X.shape))\n",
    "print(\"Shape of y: {}\".format(y.shape))"
   ]
  },
  {
   "cell_type": "code",
   "execution_count": 20,
   "metadata": {},
   "outputs": [],
   "source": [
    "epochs = 500\n",
    "display_step = 100\n",
    "batch = 64\n",
    "shape = X.shape[1]*X.shape[2]*X.shape[3]"
   ]
  },
  {
   "cell_type": "code",
   "execution_count": 21,
   "metadata": {},
   "outputs": [],
   "source": [
    "# The first dimension (None) will index the \n",
    "# images in the batch\n",
    "X_ = tf.placeholder(tf.float32, [None, width, height, 3])\n",
    "# The correct answers will go here\n",
    "y_ = tf.placeholder(tf.float32, [None, 2])\n",
    "\n",
    "# Build the matrix weights[13872, 2]\n",
    "# initialized with random values from normal\n",
    "# distribution mean = 0, stddev=0.1\n",
    "W = tf.Variable(\n",
    "    tf.truncated_normal([shape, 2], \n",
    "                        stddev=0.1))\n",
    "\n",
    "# biase b[2]\n",
    "b = tf.Variable(tf.zeros([2]))\n"
   ]
  },
  {
   "cell_type": "code",
   "execution_count": 22,
   "metadata": {},
   "outputs": [],
   "source": [
    "# Flatten the images, \n",
    "# unroll each image row by row\n",
    "# create vector[13872]\n",
    "XX = tf.reshape(X_, [-1, shape])\n",
    "\n",
    "#Define model\n",
    "# Y = tf.nn."
   ]
  },
  {
   "cell_type": "code",
   "execution_count": null,
   "metadata": {},
   "outputs": [],
   "source": []
  }
 ],
 "metadata": {
  "kernelspec": {
   "display_name": "venv",
   "language": "python",
   "name": "venv"
  },
  "language_info": {
   "codemirror_mode": {
    "name": "ipython",
    "version": 3
   },
   "file_extension": ".py",
   "mimetype": "text/x-python",
   "name": "python",
   "nbconvert_exporter": "python",
   "pygments_lexer": "ipython3",
   "version": "3.7.4"
  }
 },
 "nbformat": 4,
 "nbformat_minor": 2
}
