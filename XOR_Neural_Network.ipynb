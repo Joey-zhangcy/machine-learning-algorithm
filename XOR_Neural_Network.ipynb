{
 "cells": [
  {
   "cell_type": "code",
   "execution_count": 1,
   "metadata": {},
   "outputs": [],
   "source": [
    "import numpy as np"
   ]
  },
  {
   "cell_type": "code",
   "execution_count": 2,
   "metadata": {},
   "outputs": [
    {
     "name": "stdout",
     "output_type": "stream",
     "text": [
      "Python 2.7.16\r\n"
     ]
    }
   ],
   "source": [
    "import numpy as np\n",
    "!python --version"
   ]
  },
  {
   "cell_type": "code",
   "execution_count": 5,
   "metadata": {},
   "outputs": [
    {
     "name": "stdout",
     "output_type": "stream",
     "text": [
      "Requirement already up-to-date: tensorflow in /Users/neemiasbsilva/venv/lib/python3.7/site-packages (2.0.0)\n",
      "Requirement already satisfied, skipping upgrade: opt-einsum>=2.3.2 in /Users/neemiasbsilva/venv/lib/python3.7/site-packages (from tensorflow) (3.1.0)\n",
      "Requirement already satisfied, skipping upgrade: keras-applications>=1.0.8 in /Users/neemiasbsilva/venv/lib/python3.7/site-packages (from tensorflow) (1.0.8)\n",
      "Requirement already satisfied, skipping upgrade: gast==0.2.2 in /Users/neemiasbsilva/venv/lib/python3.7/site-packages (from tensorflow) (0.2.2)\n",
      "Requirement already satisfied, skipping upgrade: six>=1.10.0 in /Library/Frameworks/Python.framework/Versions/3.7/lib/python3.7/site-packages (from tensorflow) (1.12.0)\n",
      "Requirement already satisfied, skipping upgrade: termcolor>=1.1.0 in /Users/neemiasbsilva/venv/lib/python3.7/site-packages (from tensorflow) (1.1.0)\n",
      "Requirement already satisfied, skipping upgrade: tensorboard<2.1.0,>=2.0.0 in /Users/neemiasbsilva/venv/lib/python3.7/site-packages (from tensorflow) (2.0.0)\n",
      "Requirement already satisfied, skipping upgrade: tensorflow-estimator<2.1.0,>=2.0.0 in /Users/neemiasbsilva/venv/lib/python3.7/site-packages (from tensorflow) (2.0.1)\n",
      "Requirement already satisfied, skipping upgrade: wrapt>=1.11.1 in /Users/neemiasbsilva/venv/lib/python3.7/site-packages (from tensorflow) (1.11.2)\n",
      "Requirement already satisfied, skipping upgrade: wheel>=0.26 in /Library/Frameworks/Python.framework/Versions/3.7/lib/python3.7/site-packages (from tensorflow) (0.33.6)\n",
      "Requirement already satisfied, skipping upgrade: keras-preprocessing>=1.0.5 in /Users/neemiasbsilva/venv/lib/python3.7/site-packages (from tensorflow) (1.1.0)\n",
      "Requirement already satisfied, skipping upgrade: numpy<2.0,>=1.16.0 in /Library/Frameworks/Python.framework/Versions/3.7/lib/python3.7/site-packages (from tensorflow) (1.17.2)\n",
      "Requirement already satisfied, skipping upgrade: grpcio>=1.8.6 in /Users/neemiasbsilva/venv/lib/python3.7/site-packages (from tensorflow) (1.24.3)\n",
      "Requirement already satisfied, skipping upgrade: absl-py>=0.7.0 in /Users/neemiasbsilva/venv/lib/python3.7/site-packages (from tensorflow) (0.8.1)\n",
      "Requirement already satisfied, skipping upgrade: google-pasta>=0.1.6 in /Users/neemiasbsilva/venv/lib/python3.7/site-packages (from tensorflow) (0.1.7)\n",
      "Requirement already satisfied, skipping upgrade: protobuf>=3.6.1 in /Users/neemiasbsilva/venv/lib/python3.7/site-packages (from tensorflow) (3.10.0)\n",
      "Requirement already satisfied, skipping upgrade: astor>=0.6.0 in /Users/neemiasbsilva/venv/lib/python3.7/site-packages (from tensorflow) (0.8.0)\n",
      "Requirement already satisfied, skipping upgrade: h5py in /Users/neemiasbsilva/venv/lib/python3.7/site-packages (from keras-applications>=1.0.8->tensorflow) (2.10.0)\n",
      "Requirement already satisfied, skipping upgrade: werkzeug>=0.11.15 in /Users/neemiasbsilva/venv/lib/python3.7/site-packages (from tensorboard<2.1.0,>=2.0.0->tensorflow) (0.16.0)\n",
      "Requirement already satisfied, skipping upgrade: setuptools>=41.0.0 in /Users/neemiasbsilva/venv/lib/python3.7/site-packages (from tensorboard<2.1.0,>=2.0.0->tensorflow) (41.5.1)\n",
      "Requirement already satisfied, skipping upgrade: markdown>=2.6.8 in /Users/neemiasbsilva/venv/lib/python3.7/site-packages (from tensorboard<2.1.0,>=2.0.0->tensorflow) (3.1.1)\n"
     ]
    }
   ],
   "source": [
    "!pip install --upgrade tensorflow"
   ]
  },
  {
   "cell_type": "code",
   "execution_count": null,
   "metadata": {},
   "outputs": [],
   "source": []
  }
 ],
 "metadata": {
  "kernelspec": {
   "display_name": ".venv",
   "language": "python",
   "name": ".venv"
  },
  "language_info": {
   "codemirror_mode": {
    "name": "ipython",
    "version": 3
   },
   "file_extension": ".py",
   "mimetype": "text/x-python",
   "name": "python",
   "nbconvert_exporter": "python",
   "pygments_lexer": "ipython3",
   "version": "3.7.4"
  }
 },
 "nbformat": 4,
 "nbformat_minor": 2
}
