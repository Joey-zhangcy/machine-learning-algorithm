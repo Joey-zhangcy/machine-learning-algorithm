{
 "cells": [
  {
   "cell_type": "code",
   "execution_count": 5,
   "metadata": {},
   "outputs": [],
   "source": [
    "#Import some libraries\n",
    "import tensorflow as tf\n",
    "import glob\n",
    "import numpy as np\n",
    "# for installer: pip install Pillow\n",
    "from PIL import Image\n",
    "import matplotlib.pyplot as plt\n",
    "from skimage import transform\n",
    "import os"
   ]
  },
  {
   "cell_type": "code",
   "execution_count": 12,
   "metadata": {},
   "outputs": [],
   "source": [
    "width = 68\n",
    "height = 68\n",
    "X = []\n",
    "y = []\n",
    "def get_dataset(path_image, Cat=True):\n",
    "    images = glob.glob(path_image+\"*.png\")\n",
    "    \n",
    "    for image in images:\n",
    "        img = Image.open(image)\n",
    "        img = np.asarray(img)\n",
    "        if Cat:\n",
    "            y.append(1)\n",
    "        else:\n",
    "            y.append(0)\n",
    "        img = transform.resize(img,(width, height))\n",
    "        X.append(img)\n",
    "        \n",
    "path_images_cat = 'train/cat/'\n",
    "path_images_n_cat = 'train/noncat/'\n",
    "\n",
    "get_dataset(path_images_cat)\n",
    "get_dataset(path_images_n_cat, False)\n",
    "\n",
    "X = np.asarray(X)\n",
    "y = np.asarray(y)"
   ]
  },
  {
   "cell_type": "code",
   "execution_count": 13,
   "metadata": {},
   "outputs": [
    {
     "name": "stdout",
     "output_type": "stream",
     "text": [
      "Shape of X: (209, 68, 68, 3)\n",
      "Shape of y: (209,)\n"
     ]
    }
   ],
   "source": [
    "# check the shape of data set and labels\n",
    "print(\"Shape of X: {}\".format(X.shape))\n",
    "print(\"Shape of y: {}\".format(y.shape))"
   ]
  },
  {
   "cell_type": "code",
   "execution_count": 20,
   "metadata": {},
   "outputs": [],
   "source": [
    "epochs = 500\n",
    "display_step = 100\n",
    "batch = 64\n",
    "shape = X.shape[1]*X.shape[2]*X.shape[3]"
   ]
  },
  {
   "cell_type": "code",
   "execution_count": 21,
   "metadata": {},
   "outputs": [],
   "source": [
    "# The first dimension (None) will index the \n",
    "# images in the batch\n",
    "X_ = tf.placeholder(tf.float32, [None, width, height, 3])\n",
    "# The correct answers will go here\n",
    "y_ = tf.placeholder(tf.float32, [None, 2])\n",
    "\n",
    "# Build the matrix weights[13872, 2]\n",
    "# initialized with random values from normal\n",
    "# distribution mean = 0, stddev=0.1\n",
    "W = tf.Variable(\n",
    "    tf.truncated_normal([shape, 2], \n",
    "                        stddev=0.1))\n",
    "\n",
    "# biase b[2]\n",
    "b = tf.Variable(tf.zeros([2]))\n"
   ]
  },
  {
   "cell_type": "code",
   "execution_count": 23,
   "metadata": {},
   "outputs": [],
   "source": [
    "# Flatten the images, \n",
    "# unroll each image row by row\n",
    "# create vector[13872]\n",
    "XX = tf.reshape(X_, [-1, shape])\n",
    "\n",
    "#Define model\n",
    "Y = tf.nn.softmax(tf.matmul(XX, W)+b)"
   ]
  },
  {
   "cell_type": "code",
   "execution_count": 24,
   "metadata": {},
   "outputs": [],
   "source": [
    "# loss function:\n",
    "cross_entropy = tf.reduce_mean(y_ * tf.log(Y)) * 1000.0"
   ]
  },
  {
   "cell_type": "code",
   "execution_count": 26,
   "metadata": {},
   "outputs": [],
   "source": [
    "# accuracy of the trained model, between 0 and 1\n",
    "correct_prediction = tf.equal(tf.argmax(Y, 1), tf.argmax(y_, 1))\n",
    "accuracy = tf.reduce_mean(tf.cast(correct_prediction, tf.float32))"
   ]
  },
  {
   "cell_type": "code",
   "execution_count": 27,
   "metadata": {},
   "outputs": [],
   "source": [
    "# training, learning rate\n",
    "lr = 0.001\n",
    "train_step = tf.train.GradientDescentOptimizer(lr).minimize(cross_entropy)"
   ]
  },
  {
   "cell_type": "code",
   "execution_count": 28,
   "metadata": {},
   "outputs": [],
   "source": [
    "# matplotlib visualization\n",
    "%matplotlib inline\n",
    "\n",
    "allweights = tf.reshape(W, [-1])\n",
    "allbiases = tf.reshape(b, [-1])"
   ]
  },
  {
   "cell_type": "code",
   "execution_count": 29,
   "metadata": {},
   "outputs": [],
   "source": [
    "# Initializing the variables\n",
    "init = tf.global_variables_initializer()"
   ]
  },
  {
   "cell_type": "code",
   "execution_count": 30,
   "metadata": {},
   "outputs": [],
   "source": [
    "train_losses = list()\n",
    "train_acc = list()\n",
    "test_losses = list()\n",
    "test_acc = list()"
   ]
  },
  {
   "cell_type": "code",
   "execution_count": 31,
   "metadata": {},
   "outputs": [],
   "source": [
    "saver = tf.train.Saver()"
   ]
  },
  {
   "cell_type": "code",
   "execution_count": null,
   "metadata": {},
   "outputs": [],
   "source": [
    "# Launch the graph\n",
    "with tf.Session() as sess:\n",
    "    sess.run(init)\n",
    "\n",
    "\n",
    "    for i in range(NUM_ITERS+1):\n",
    "        # training on batches of 100 images with 100 labels\n",
    "        batch_X, batch_Y = mnist.train.next_batch(BATCH)\n",
    "\n",
    "        if i%DISPLAY_STEP ==0:\n",
    "            # compute training values for visualization\n",
    "            acc_trn, loss_trn, w, b = sess.run([accuracy, cross_entropy, allweights, allbiases], feed_dict={X: batch_X, Y_: batch_Y})\n",
    "                        \n",
    "            acc_tst, loss_tst = sess.run([accuracy, cross_entropy], feed_dict={X: mnist.test.images, Y_: mnist.test.labels})\n",
    "            \n",
    "            print(\"#{} Trn acc={} , Trn loss={} Tst acc={} , Tst loss={}\".format(i,acc_trn,loss_trn,acc_tst,loss_tst))\n",
    "\n",
    "            train_losses.append(loss_trn)\n",
    "            train_acc.append(acc_trn)\n",
    "            test_losses.append(loss_tst)\n",
    "            test_acc.append(acc_tst)\n",
    "\n",
    "        # the back-propagation training step\n",
    "        sess.run(train_step, feed_dict={X: batch_X, Y_: batch_Y})\n",
    "\n",
    "    \n",
    "\n",
    "title = \"MNIST 1.0 single softmax layer\"\n",
    "vis.losses_accuracies_plots(train_losses,train_acc,test_losses, test_acc,title,DISPLAY_STEP)\n"
   ]
  }
 ],
 "metadata": {
  "kernelspec": {
   "display_name": "venv",
   "language": "python",
   "name": "venv"
  },
  "language_info": {
   "codemirror_mode": {
    "name": "ipython",
    "version": 3
   },
   "file_extension": ".py",
   "mimetype": "text/x-python",
   "name": "python",
   "nbconvert_exporter": "python",
   "pygments_lexer": "ipython3",
   "version": "3.7.4"
  }
 },
 "nbformat": 4,
 "nbformat_minor": 2
}
